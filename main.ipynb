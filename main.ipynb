{
 "cells": [
  {
   "cell_type": "code",
   "execution_count": 1,
   "metadata": {},
   "outputs": [],
   "source": [
    "from genetic.mutate import mutate\n",
    "from genetic.crossover import crossover\n",
    "from genetic.random_sample import generate_random_samples"
   ]
  },
  {
   "cell_type": "code",
   "execution_count": 3,
   "metadata": {},
   "outputs": [],
   "source": [
    "import os\n",
    "import matplotlib.pyplot as plt\n",
    "from PIL import Image\n",
    "from visual.clip_utils import similarities_heat_map\n",
    "\n",
    "OCR_TESTING = False\n",
    "\n",
    "if OCR_TESTING:\n",
    "    image_root = os.path.join('images', 'OCR testing')\n",
    "else:\n",
    "    image_root = 'images'\n",
    "\n",
    "image_paths = [os.path.join(image_root, _) for _ in os.listdir(image_root) if _.endswith('.png')]\n",
    "images_dict = {_: Image.open(_).convert(\"RGB\") for _ in image_paths}\n",
    "\n",
    "images = []\n",
    "texts = []\n",
    "\n",
    "for fname, image in images_dict.items():\n",
    "    images.append(image)\n",
    "    if not OCR_TESTING:\n",
    "        texts.append(os.path.split(fname)[1].split('.')[0])\n",
    "\n",
    "if OCR_TESTING:\n",
    "    texts += \\\n",
    "        ['red', 'circle'] + \\\n",
    "        ['turtle', 'octagon', 'triangle']  # + \\\n",
    "        # ['quantum mechanics', '40%', 'percentage']  # + \\\n",
    "        # ['quantum mechanics', 'gown', '40%', 'percentage', '30%', '5 L', 'liters'] + \\\n",
    "# similarities_heat_map(texts, images)\n",
    "# plt.show()"
   ]
  },
  {
   "cell_type": "code",
   "execution_count": 15,
   "metadata": {},
   "outputs": [],
   "source": [
    "# images[2]"
   ]
  },
  {
   "cell_type": "code",
   "execution_count": 13,
   "metadata": {},
   "outputs": [],
   "source": [
    "from visual.clip_utils import texts_images_similarities\n",
    "\n",
    "DEFAULT_OBJECTIVE_IMAGE = images[2]\n",
    "\n",
    "\n",
    "def fitness_function(*texts, objective_image=DEFAULT_OBJECTIVE_IMAGE):\n",
    "    return texts_images_similarities(texts, [objective_image])"
   ]
  },
  {
   "cell_type": "code",
   "execution_count": 14,
   "metadata": {},
   "outputs": [
    {
     "data": {
      "text/plain": [
       "array([[0.34895262],\n",
       "       [0.23745248],\n",
       "       [0.25925913],\n",
       "       [0.3119606 ],\n",
       "       [0.29006857],\n",
       "       [0.26171455],\n",
       "       [0.22287324]], dtype=float32)"
      ]
     },
     "execution_count": 14,
     "metadata": {},
     "output_type": "execute_result"
    }
   ],
   "source": [
    "texts = [\n",
    "    'pie chart',\n",
    "    'circle', \n",
    "    'Fusarium',\n",
    "    'Lactobacillus',\n",
    "    'Pythium',\n",
    "    'blue',\n",
    "    'cyan',\n",
    "]\n",
    "\n",
    "fitnesses = fitness_function(*texts)\n",
    "fitnesses"
   ]
  }
 ],
 "metadata": {
  "kernelspec": {
   "display_name": ".venv",
   "language": "python",
   "name": "python3"
  },
  "language_info": {
   "codemirror_mode": {
    "name": "ipython",
    "version": 3
   },
   "file_extension": ".py",
   "mimetype": "text/x-python",
   "name": "python",
   "nbconvert_exporter": "python",
   "pygments_lexer": "ipython3",
   "version": "3.12.2"
  }
 },
 "nbformat": 4,
 "nbformat_minor": 2
}
