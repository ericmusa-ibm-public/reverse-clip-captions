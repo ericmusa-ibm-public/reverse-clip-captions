{
 "cells": [
  {
   "cell_type": "code",
   "execution_count": 1,
   "metadata": {},
   "outputs": [],
   "source": [
    "from genetic.mutate import mutate\n",
    "from genetic.crossover import crossover\n",
    "from genetic.random_sample import generate_random_samples"
   ]
  },
  {
   "cell_type": "code",
   "execution_count": 2,
   "metadata": {},
   "outputs": [
    {
     "name": "stdout",
     "output_type": "stream",
     "text": [
      "Model parameters: 179,385,345\n",
      "Context length: 77\n",
      "Vocab size: 49408\n"
     ]
    }
   ],
   "source": [
    "import os\n",
    "import matplotlib.pyplot as plt\n",
    "from PIL import Image\n",
    "import random\n",
    "from visual.clip_utils import similarities_heat_map\n",
    "\n",
    "OCR_TESTING = False\n",
    "\n",
    "if OCR_TESTING:\n",
    "    image_root = os.path.join('images', 'OCR testing')\n",
    "else:\n",
    "    image_root = 'images'\n",
    "\n",
    "image_paths = [os.path.join(image_root, _) for _ in os.listdir(image_root) if _.endswith('.png')]\n",
    "images_dict = {_: Image.open(_).convert(\"RGB\") for _ in image_paths}\n",
    "\n",
    "images = []\n",
    "texts = []\n",
    "\n",
    "for fname, image in images_dict.items():\n",
    "    images.append(image)\n",
    "    if not OCR_TESTING:\n",
    "        texts.append(os.path.split(fname)[1].split('.')[0])\n",
    "\n",
    "if OCR_TESTING:\n",
    "    texts += \\\n",
    "        ['red', 'circle'] + \\\n",
    "        ['turtle', 'octagon', 'triangle']  # + \\\n",
    "        # ['quantum mechanics', '40%', 'percentage']  # + \\\n",
    "        # ['quantum mechanics', 'gown', '40%', 'percentage', '30%', '5 L', 'liters'] + \\\n",
    "# similarities_heat_map(texts, images)\n",
    "# plt.show()"
   ]
  },
  {
   "cell_type": "code",
   "execution_count": 3,
   "metadata": {},
   "outputs": [],
   "source": [
    "# images[2]"
   ]
  },
  {
   "cell_type": "code",
   "execution_count": 4,
   "metadata": {},
   "outputs": [],
   "source": [
    "from visual.clip_utils import texts_images_similarities\n",
    "\n",
    "DEFAULT_OBJECTIVE_IMAGE = images[2]\n",
    "\n",
    "\n",
    "def fitness_function(*texts, objective_image=DEFAULT_OBJECTIVE_IMAGE):\n",
    "    return texts_images_similarities(texts, [objective_image])"
   ]
  },
  {
   "cell_type": "code",
   "execution_count": 5,
   "metadata": {},
   "outputs": [],
   "source": [
    "# texts = [\n",
    "#     'pie chart',\n",
    "#     'circle', \n",
    "#     'Fusarium',\n",
    "#     'Lactobacillus',\n",
    "#     'Pythium',\n",
    "#     'blue',\n",
    "#     'cyan',\n",
    "# ]\n",
    "\n",
    "# fitnesses = fitness_function(*texts)\n",
    "# fitnesses"
   ]
  },
  {
   "cell_type": "code",
   "execution_count": 6,
   "metadata": {},
   "outputs": [],
   "source": [
    "import json\n",
    "import uuid\n",
    "\n",
    "\n",
    "def _generate_text():\n",
    "    text = []\n",
    "    while len(text) < 1:\n",
    "        text += generate_random_samples()\n",
    "    return text[0]\n",
    "\n",
    "\n",
    "class Individual:\n",
    "\n",
    "    def __init__(self, text=None, generation=0, id=None, fitness=None):\n",
    "        self.text = text or _generate_text()\n",
    "        self.generation = generation\n",
    "        self.id = id or uuid.uuid4().hex\n",
    "        self.fitness = fitness\n",
    "    \n",
    "    def __repr__(self) -> str:\n",
    "        fitness_str = f' ({self.fitness:.04f})' if not self.fitness is None else ''\n",
    "        return f'Gen {self.generation}{fitness_str}: \"{self.text}\"'\n",
    "    \n",
    "    def __str__(self) -> str:\n",
    "        return repr(self)\n",
    "    \n",
    "    def save(self, filename):\n",
    "        with open(filename, 'w') as f:\n",
    "            obj = {\n",
    "                'text': self.text,\n",
    "                'generation': self.generation,\n",
    "                'id': self.id,\n",
    "                'fitness': float(self.fitness) if self.fitness is not None else -1\n",
    "            }\n",
    "            json.dump(obj, f)\n",
    "\n",
    "    @classmethod\n",
    "    def load(cls, filename):\n",
    "        with open(filename, 'r') as f:\n",
    "            obj = json.load(f)\n",
    "            fitness = obj['fitness']\n",
    "            fitness = None if fitness == -1 else fitness\n",
    "            return cls(\n",
    "                text=obj['text'],\n",
    "                generation=obj['generation'],\n",
    "                id=obj['id'],\n",
    "                fitness=fitness\n",
    "            )\n",
    "\n"
   ]
  },
  {
   "cell_type": "code",
   "execution_count": 7,
   "metadata": {},
   "outputs": [],
   "source": [
    "def evaluate(population):\n",
    "    fitnesses = fitness_function(*[_.text for _ in population]).reshape(len(population))\n",
    "    for p, f in zip(population, fitnesses):\n",
    "        p.fitness = f\n",
    "    return fitnesses"
   ]
  },
  {
   "cell_type": "code",
   "execution_count": 8,
   "metadata": {},
   "outputs": [],
   "source": [
    "# fitnesses = evaluate(initial_population)\n",
    "# initial_population"
   ]
  },
  {
   "cell_type": "code",
   "execution_count": 17,
   "metadata": {},
   "outputs": [],
   "source": [
    "def sort_pop(population):\n",
    "    return sorted(population, key=lambda x: x.fitness, reverse=True)\n",
    "    # return population\n",
    "\n",
    "# sort_pop(initial_population)"
   ]
  },
  {
   "cell_type": "code",
   "execution_count": 10,
   "metadata": {},
   "outputs": [],
   "source": [
    "from roulette_selector import roulette\n",
    "\n",
    "def select_from_population(population, n_select=1, weighting_func=None):\n",
    "    assert all(_.fitness is not None for _ in population), 'population must be evaluated before being selected from'\n",
    "    if weighting_func:\n",
    "        options = {individual: weighting_func(individual.fitness, population) for individual in population}\n",
    "    else:\n",
    "        options = {individual: individual.fitness for individual in population}\n",
    "\n",
    "    selected = []\n",
    "    while len(selected) < n_select:\n",
    "        selected_individual = roulette(options)\n",
    "        selected.append(selected_individual)\n",
    "        options.pop(selected_individual)\n",
    "    return selected, list(options.keys())"
   ]
  },
  {
   "cell_type": "code",
   "execution_count": 11,
   "metadata": {},
   "outputs": [],
   "source": [
    "def mutate_individual(mutant_candidate, max_offspring=1):\n",
    "    mutated_texts = mutate(mutant_candidate.text)\n",
    "    random.shuffle(mutated_texts)\n",
    "    return [Individual(mutated_texts[i], mutant_candidate.generation + 1) for i in range(max(len(mutated_texts), max_offspring))]"
   ]
  },
  {
   "cell_type": "code",
   "execution_count": 12,
   "metadata": {},
   "outputs": [],
   "source": [
    "def crossover_individuals(mother_candidate, father_candidate, max_offspring=2):\n",
    "    crossover_texts = crossover(mother_candidate.text, father_candidate.text)\n",
    "    random.shuffle(crossover_texts)\n",
    "    return [Individual(crossover_texts[i], max(mother_candidate.generation, father_candidate.generation) + 1) for i in range(max(len(crossover_texts), max_offspring))]"
   ]
  },
  {
   "cell_type": "code",
   "execution_count": 25,
   "metadata": {},
   "outputs": [],
   "source": [
    "def mean_fitness(population):\n",
    "    return sum(_.fitness for _ in population) / len(population)"
   ]
  },
  {
   "cell_type": "code",
   "execution_count": 37,
   "metadata": {},
   "outputs": [
    {
     "name": "stderr",
     "output_type": "stream",
     "text": [
      "  0%|          | 0/10 [00:00<?, ?it/s]"
     ]
    },
    {
     "name": "stdout",
     "output_type": "stream",
     "text": [
      "starting generation 1\n",
      "creating new mutants\n"
     ]
    },
    {
     "name": "stderr",
     "output_type": "stream",
     "text": [
      "100%|██████████| 6/6 [00:28<00:00,  4.75s/it]\n"
     ]
    },
    {
     "name": "stdout",
     "output_type": "stream",
     "text": [
      "6 mutants created\n",
      "creating new crossovers\n"
     ]
    },
    {
     "name": "stderr",
     "output_type": "stream",
     "text": [
      "100%|██████████| 5/5 [00:34<00:00,  6.86s/it]\n"
     ]
    },
    {
     "name": "stdout",
     "output_type": "stream",
     "text": [
      "9 crossovers created\n",
      "average fitness of previous population 0.16925317496061326\n"
     ]
    },
    {
     "name": "stderr",
     "output_type": "stream",
     "text": [
      " 10%|█         | 1/10 [01:03<09:32, 63.65s/it]"
     ]
    },
    {
     "name": "stdout",
     "output_type": "stream",
     "text": [
      "average fitness of new individuals 0.17233455578486126\n",
      "average fitness of retained individuals 0.18752574734389782\n",
      "starting generation 2\n",
      "creating new mutants\n"
     ]
    },
    {
     "name": "stderr",
     "output_type": "stream",
     "text": [
      "100%|██████████| 6/6 [00:30<00:00,  5.08s/it]\n"
     ]
    },
    {
     "name": "stdout",
     "output_type": "stream",
     "text": [
      "6 mutants created\n",
      "creating new crossovers\n"
     ]
    },
    {
     "name": "stderr",
     "output_type": "stream",
     "text": [
      "100%|██████████| 5/5 [00:36<00:00,  7.37s/it]\n"
     ]
    },
    {
     "name": "stdout",
     "output_type": "stream",
     "text": [
      "9 crossovers created\n",
      "average fitness of previous population 0.18752574734389782\n"
     ]
    },
    {
     "name": "stderr",
     "output_type": "stream",
     "text": [
      " 20%|██        | 2/10 [02:11<08:50, 66.30s/it]"
     ]
    },
    {
     "name": "stdout",
     "output_type": "stream",
     "text": [
      "average fitness of new individuals 0.15616419861714045\n",
      "average fitness of retained individuals 0.18798917829990386\n",
      "starting generation 3\n",
      "creating new mutants\n"
     ]
    },
    {
     "name": "stderr",
     "output_type": "stream",
     "text": []
    }
   ],
   "source": [
    "from tqdm import tqdm\n",
    "\n",
    "n_population = 20\n",
    "new_mutants_per_generation = 6\n",
    "new_crossovers_per_generation = 9\n",
    "new_offspring_per_crossover = 2\n",
    "n_generations = 10\n",
    "keep_top_k = 5\n",
    "\n",
    "\n",
    "# initial_population = [Individual() for _ in tqdm(range(population_size))]\n",
    "population = [Individual.load(os.path.join('population', _)) for _ in os.listdir('population')]\n",
    "evaluate(population)\n",
    "# initial_population\n",
    "\n",
    "for generation in tqdm(range(n_generations)):\n",
    "    print(f'starting generation {generation+1}')\n",
    "    \n",
    "    new_mutants = []\n",
    "    print('creating new mutants')\n",
    "    # while len(new_mutants) < new_mutants_per_generation:\n",
    "    #     candidate = select_from_population(population)[0][0]\n",
    "    #     new_mutants += mutate_individual(candidate)\n",
    "    for _ in tqdm(range(new_mutants_per_generation)):\n",
    "        candidate = select_from_population(population)[0][0]\n",
    "        new_mutants += mutate_individual(candidate)\n",
    "    \n",
    "    new_mutants = new_mutants[:new_mutants_per_generation]\n",
    "    print(f'{len(new_mutants)} mutants created')\n",
    "\n",
    "    print('creating new crossovers')\n",
    "    new_crossovers = []\n",
    "    # while len(new_crossovers) < new_crossovers_per_generation:\n",
    "    #     mother, father = select_from_population(population, 2)[0]\n",
    "    #     new_crossovers += crossover_individuals(mother, father)\n",
    "\n",
    "    for _ in tqdm(range(0, new_crossovers_per_generation+1, new_offspring_per_crossover)):\n",
    "        children = []\n",
    "        while len(children) < new_offspring_per_crossover:\n",
    "            mother, father = select_from_population(population, 2)[0]\n",
    "            children += crossover_individuals(mother, father)\n",
    "        new_crossovers += children[:new_offspring_per_crossover]\n",
    "    \n",
    "    new_crossovers = new_crossovers[:new_crossovers_per_generation]\n",
    "    print(f'{len(new_crossovers)} crossovers created')\n",
    "\n",
    "    print(f'average fitness of previous population {mean_fitness(population)}')\n",
    "    new_population = new_mutants + new_crossovers\n",
    "    \n",
    "    evaluate(new_population)\n",
    "    print(f'average fitness of new individuals {mean_fitness(new_population)}')\n",
    "    \n",
    "    combined_population = sort_pop(new_population + population)\n",
    "    retained_population = []\n",
    "    retained_population += combined_population[:keep_top_k]\n",
    "    retained_population += select_from_population(combined_population, n_select = n_population - keep_top_k)[0]\n",
    "    assert len(retained_population) == n_population\n",
    "    print(f'average fitness of retained individuals {mean_fitness(retained_population)}')\n",
    "\n",
    "    population = retained_population\n",
    "    # input()"
   ]
  },
  {
   "cell_type": "code",
   "execution_count": null,
   "metadata": {},
   "outputs": [],
   "source": [
    "# selected, unselected = select_from_population(initial_population, n_select=3)\n",
    "# print(sum(_.fitness for _ in selected) / len(selected))\n",
    "# print(sum(_.fitness for _ in unselected) / len(unselected))\n",
    "# selected"
   ]
  },
  {
   "cell_type": "code",
   "execution_count": null,
   "metadata": {},
   "outputs": [],
   "source": [
    "# mutant_candidate = selected.pop(0)\n",
    "# mutated_text = mutate(mutant_candidate.text)\n",
    "# print(mutant_candidate.text)\n",
    "# print(mutated_text)"
   ]
  },
  {
   "cell_type": "code",
   "execution_count": null,
   "metadata": {},
   "outputs": [],
   "source": [
    "# mother_candidate, father_candidate = selected\n",
    "# crossover_text = crossover(mother_candidate.text, father_candidate.text)\n",
    "# print(mother_candidate.text)\n",
    "# print(father_candidate.text)\n",
    "# print(crossover_text)"
   ]
  }
 ],
 "metadata": {
  "kernelspec": {
   "display_name": ".venv",
   "language": "python",
   "name": "python3"
  },
  "language_info": {
   "codemirror_mode": {
    "name": "ipython",
    "version": 3
   },
   "file_extension": ".py",
   "mimetype": "text/x-python",
   "name": "python",
   "nbconvert_exporter": "python",
   "pygments_lexer": "ipython3",
   "version": "3.12.2"
  }
 },
 "nbformat": 4,
 "nbformat_minor": 2
}
